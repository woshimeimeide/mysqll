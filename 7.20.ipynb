{
 "cells": [
  {
   "cell_type": "markdown",
   "metadata": {},
   "source": [
    "# 函数\n",
    "\n",
    "- 函数可以用来定义可重复代码，组织和简化\n",
    "- 一般来说一个函数在实际开发中为一个小功能\n",
    "- 一个类为一个大功能\n",
    "- 同样函数的长度不要超过一屏"
   ]
  },
  {
   "cell_type": "markdown",
   "metadata": {},
   "source": [
    "## 定义一个函数\n",
    "\n",
    "def function_name(list of parameters):\n",
    "    \n",
    "    do something\n",
    "![](../Photo/69.png)\n",
    "- 以前使用的random 或者range 或者print.. 其实都是函数或者类"
   ]
  },
  {
   "cell_type": "markdown",
   "metadata": {},
   "source": [
    "## 调用一个函数\n",
    "- functionName()\n",
    "- \"()\" 就代表调用"
   ]
  },
  {
   "cell_type": "code",
   "execution_count": 2,
   "metadata": {},
   "outputs": [],
   "source": [
    "def max_(num1,num2):\n",
    "    if num1>num2:\n",
    "        return num1\n",
    "    else:\n",
    "        return num2"
   ]
  },
  {
   "cell_type": "code",
   "execution_count": 3,
   "metadata": {},
   "outputs": [
    {
     "data": {
      "text/plain": [
       "4"
      ]
     },
     "execution_count": 3,
     "metadata": {},
     "output_type": "execute_result"
    }
   ],
   "source": [
    "max_(2,4)"
   ]
  },
  {
   "cell_type": "code",
   "execution_count": 8,
   "metadata": {},
   "outputs": [],
   "source": [
    "def max_(num1,num2,num3):\n",
    "    if num1>num2 and num1>num3:\n",
    "        return num1\n",
    "    elif num2>num1 and num2>num3:\n",
    "        return num2\n",
    "    elif num3>num1 and num3>num2:\n",
    "        print('good')"
   ]
  },
  {
   "cell_type": "code",
   "execution_count": 9,
   "metadata": {},
   "outputs": [
    {
     "name": "stdout",
     "output_type": "stream",
     "text": [
      "good\n"
     ]
    }
   ],
   "source": [
    "max_(1,2,3)"
   ]
  },
  {
   "cell_type": "code",
   "execution_count": 12,
   "metadata": {},
   "outputs": [
    {
     "ename": "SyntaxError",
     "evalue": "invalid syntax (<ipython-input-12-efdf692e19cd>, line 2)",
     "output_type": "error",
     "traceback": [
      "\u001b[1;36m  File \u001b[1;32m\"<ipython-input-12-efdf692e19cd>\"\u001b[1;36m, line \u001b[1;32m2\u001b[0m\n\u001b[1;33m    print('%s is a bad  man',%name)\u001b[0m\n\u001b[1;37m                             ^\u001b[0m\n\u001b[1;31mSyntaxError\u001b[0m\u001b[1;31m:\u001b[0m invalid syntax\n"
     ]
    }
   ],
   "source": [
    "def Good(name2,name='zyyy',name3='wee'):\n",
    "    print('%s is a bad  man',%name)"
   ]
  },
  {
   "cell_type": "code",
   "execution_count": 11,
   "metadata": {},
   "outputs": [
    {
     "ename": "NameError",
     "evalue": "name 'Good' is not defined",
     "output_type": "error",
     "traceback": [
      "\u001b[1;31m---------------------------------------------------------------------------\u001b[0m",
      "\u001b[1;31mNameError\u001b[0m                                 Traceback (most recent call last)",
      "\u001b[1;32m<ipython-input-11-544117ac9c5b>\u001b[0m in \u001b[0;36m<module>\u001b[1;34m\u001b[0m\n\u001b[1;32m----> 1\u001b[1;33m \u001b[0mGood\u001b[0m\u001b[1;33m(\u001b[0m\u001b[1;34m'zy'\u001b[0m\u001b[1;33m,\u001b[0m\u001b[1;34m'zyy'\u001b[0m\u001b[1;33m)\u001b[0m\u001b[1;33m\u001b[0m\u001b[1;33m\u001b[0m\u001b[0m\n\u001b[0m",
      "\u001b[1;31mNameError\u001b[0m: name 'Good' is not defined"
     ]
    }
   ],
   "source": [
    "Good('zy','zyy')"
   ]
  },
  {
   "cell_type": "code",
   "execution_count": 10,
   "metadata": {},
   "outputs": [
    {
     "ename": "NameError",
     "evalue": "name 'Good' is not defined",
     "output_type": "error",
     "traceback": [
      "\u001b[1;31m---------------------------------------------------------------------------\u001b[0m",
      "\u001b[1;31mNameError\u001b[0m                                 Traceback (most recent call last)",
      "\u001b[1;32m<ipython-input-10-8c2e5582ca7d>\u001b[0m in \u001b[0;36m<module>\u001b[1;34m\u001b[0m\n\u001b[1;32m----> 1\u001b[1;33m \u001b[0mGood\u001b[0m\u001b[1;33m(\u001b[0m\u001b[0mname2\u001b[0m\u001b[1;33m=\u001b[0m\u001b[1;34m'zy'\u001b[0m\u001b[1;33m,\u001b[0m\u001b[0mname3\u001b[0m\u001b[1;33m=\u001b[0m\u001b[1;34m'zyy'\u001b[0m\u001b[1;33m)\u001b[0m\u001b[1;33m\u001b[0m\u001b[1;33m\u001b[0m\u001b[0m\n\u001b[0m",
      "\u001b[1;31mNameError\u001b[0m: name 'Good' is not defined"
     ]
    }
   ],
   "source": [
    "Good(name2='zy',name3='zyy')"
   ]
  },
  {
   "cell_type": "markdown",
   "metadata": {},
   "source": [
    "![](../Photo/70.png)"
   ]
  },
  {
   "cell_type": "markdown",
   "metadata": {},
   "source": [
    "## 带返回值和不带返回值的函数\n",
    "- return 返回的内容\n",
    "- return 返回多个值\n",
    "- 一般情况下，在多个函数协同完成一个功能的时候，那么将会有返回值"
   ]
  },
  {
   "cell_type": "markdown",
   "metadata": {},
   "source": [
    "![](../Photo/71.png)\n",
    "\n",
    "- 当然也可以自定义返回None"
   ]
  },
  {
   "cell_type": "code",
   "execution_count": 15,
   "metadata": {},
   "outputs": [],
   "source": [
    "def fun1():\n",
    "    print('hhhh')\n",
    "def fun2():\n",
    "    print('111')"
   ]
  },
  {
   "cell_type": "code",
   "execution_count": 16,
   "metadata": {},
   "outputs": [
    {
     "name": "stdout",
     "output_type": "stream",
     "text": [
      "hhhh\n"
     ]
    }
   ],
   "source": [
    "fun1()"
   ]
  },
  {
   "cell_type": "markdown",
   "metadata": {},
   "source": [
    "## EP：\n",
    "![](../Photo/72.png)"
   ]
  },
  {
   "cell_type": "code",
   "execution_count": 22,
   "metadata": {},
   "outputs": [],
   "source": [
    "def hehe(num):\n",
    "    if num & 2 ==0:\n",
    "        print('偶数')\n",
    "    else:\n",
    "        print('奇数')"
   ]
  },
  {
   "cell_type": "code",
   "execution_count": 26,
   "metadata": {},
   "outputs": [
    {
     "name": "stdout",
     "output_type": "stream",
     "text": [
      "奇数\n"
     ]
    }
   ],
   "source": [
    "hehe(10)"
   ]
  },
  {
   "cell_type": "code",
   "execution_count": 46,
   "metadata": {},
   "outputs": [
    {
     "name": "stdout",
     "output_type": "stream",
     "text": [
      "10\n"
     ]
    }
   ],
   "source": [
    "import random\n",
    "b=random.randint(0,10)\n",
    "print(b)\n",
    "def num_(a):\n",
    "    if a==b:\n",
    "         print('你猜对了')\n",
    "    elif a>b:\n",
    "        print('你的数大了')\n",
    "    else:\n",
    "        print('你的数小了')"
   ]
  },
  {
   "cell_type": "code",
   "execution_count": 49,
   "metadata": {},
   "outputs": [
    {
     "name": "stdout",
     "output_type": "stream",
     "text": [
      "你猜对了\n"
     ]
    }
   ],
   "source": [
    "num_(10)"
   ]
  },
  {
   "cell_type": "code",
   "execution_count": 76,
   "metadata": {},
   "outputs": [
    {
     "name": "stdout",
     "output_type": "stream",
     "text": [
      "验证码是: kOMb\n"
     ]
    }
   ],
   "source": [
    "import random\n",
    "n1 = chr(random.randint(65,122))\n",
    "n2 = chr(random.randint(97,122))\n",
    "n3 = chr(random.randint(65,122))\n",
    "n4 = chr(random.randint(97,122))\n",
    "shuffle_n=[n1,n2,n3,n4]\n",
    "random.shuffle(shuffle_n)#打乱顺序\n",
    "N = \"\".join(shuffle_n)\n",
    "print('验证码是:',N)\n",
    "def ppp(a):\n",
    "    if a==N:\n",
    "        print('验证码正确')\n",
    "    else:\n",
    "        print('验证码错误')\n",
    "        "
   ]
  },
  {
   "cell_type": "code",
   "execution_count": 78,
   "metadata": {},
   "outputs": [
    {
     "name": "stdout",
     "output_type": "stream",
     "text": [
      "验证码错误\n"
     ]
    }
   ],
   "source": [
    "ppp('komb')"
   ]
  },
  {
   "cell_type": "code",
   "execution_count": 81,
   "metadata": {},
   "outputs": [
    {
     "name": "stdout",
     "output_type": "stream",
     "text": [
      "验证码是： 6717\n"
     ]
    }
   ],
   "source": [
    "import random\n",
    "a=random.randint(1000,9999)\n",
    "print('验证码是：',a)\n",
    "def zy(b):\n",
    "    if b==a:\n",
    "        print('验证码正确')\n",
    "    else:\n",
    "        print('别爬了')"
   ]
  },
  {
   "cell_type": "code",
   "execution_count": 82,
   "metadata": {},
   "outputs": [
    {
     "name": "stdout",
     "output_type": "stream",
     "text": [
      "验证码正确\n"
     ]
    }
   ],
   "source": [
    "zy(6717)"
   ]
  },
  {
   "cell_type": "markdown",
   "metadata": {},
   "source": [
    "# KNN算法\n",
    "# 读取图片，进行对比分析\n",
    "import matplotlib.pyplot as plt \n",
    "\n",
    "res = plt.imread('D:/rabbit.jpg')\n",
    "print(res)"
   ]
  },
  {
   "cell_type": "markdown",
   "metadata": {},
   "source": [
    "## 类型和关键字参数\n",
    "- 普通参数\n",
    "- 多个参数\n",
    "- 默认值参数\n",
    "- 不定长参数"
   ]
  },
  {
   "cell_type": "markdown",
   "metadata": {},
   "source": [
    "## 普通参数"
   ]
  },
  {
   "cell_type": "markdown",
   "metadata": {},
   "source": [
    "## 多个参数"
   ]
  },
  {
   "cell_type": "markdown",
   "metadata": {},
   "source": [
    "## 默认值参数\n",
    "- 默认参数只能放在最后  *之后的必须强制命名传入参数,* 之后的变量必须带参数名"
   ]
  },
  {
   "cell_type": "markdown",
   "metadata": {},
   "source": [
    "# 强制命名\n",
    "- *之后的必须强制命名传入参数,* 之后的变量必须带参数名"
   ]
  },
  {
   "cell_type": "code",
   "execution_count": 1,
   "metadata": {},
   "outputs": [
    {
     "name": "stdout",
     "output_type": "stream",
     "text": [
      "(1, 2, 3)\n"
     ]
    }
   ],
   "source": [
    "def TT(*args):\n",
    "    print(args)\n",
    "TT(1,2,3)"
   ]
  },
  {
   "cell_type": "code",
   "execution_count": 2,
   "metadata": {},
   "outputs": [],
   "source": [
    "def max_(*args):\n",
    "    res=0\n",
    "    for i in args:\n",
    "        if i>res:\n",
    "            res=i\n",
    "    return res"
   ]
  },
  {
   "cell_type": "code",
   "execution_count": 3,
   "metadata": {},
   "outputs": [
    {
     "data": {
      "text/plain": [
       "7"
      ]
     },
     "execution_count": 3,
     "metadata": {},
     "output_type": "execute_result"
    }
   ],
   "source": [
    "max_(2,4,5,6,7)"
   ]
  },
  {
   "cell_type": "code",
   "execution_count": 4,
   "metadata": {},
   "outputs": [],
   "source": [
    "def sum_(*args):\n",
    "    res=0\n",
    "    for i in args:\n",
    "        res +=i\n",
    "    return res\n",
    "    "
   ]
  },
  {
   "cell_type": "code",
   "execution_count": 5,
   "metadata": {},
   "outputs": [
    {
     "data": {
      "text/plain": [
       "6"
      ]
     },
     "execution_count": 5,
     "metadata": {},
     "output_type": "execute_result"
    }
   ],
   "source": [
    "sum_(2,4)"
   ]
  },
  {
   "cell_type": "code",
   "execution_count": null,
   "metadata": {},
   "outputs": [],
   "source": [
    "def sum_(*args):\n",
    "    res=0\n",
    "    count=1\n",
    "    for i in args:\n",
    "        res +=i\n",
    "        count +=i\n",
    "        mean = res/count\n",
    "    return res,.ean"
   ]
  },
  {
   "cell_type": "code",
   "execution_count": 6,
   "metadata": {},
   "outputs": [],
   "source": [
    "def sum_(*args,A='sum'):\n",
    "    res=0\n",
    "    count=1\n",
    "    for i in args:\n",
    "        res +=i\n",
    "        count +=i\n",
    "    if A== 'sum':\n",
    "        return res\n",
    "    elif A == 'mean':\n",
    "        mean = res/count\n",
    "        return res,mean\n",
    "    else:\n",
    "        print(A,'还未开放')"
   ]
  },
  {
   "cell_type": "code",
   "execution_count": 9,
   "metadata": {},
   "outputs": [
    {
     "data": {
      "text/plain": [
       "10"
      ]
     },
     "execution_count": 9,
     "metadata": {},
     "output_type": "execute_result"
    }
   ],
   "source": [
    "sum_(1,2,3,4)"
   ]
  },
  {
   "cell_type": "markdown",
   "metadata": {},
   "source": [
    "## 不定长参数\n",
    "- \\*args, 不定长，输入多少参数都可以，不写入参数也可以\n",
    "> - 可以输入多个参数\n",
    "  - 返回输出结果的类型是元组类型，元组可以迭代，输入多少个参数都可以迭代来取出\n",
    "  - args 名字是可以修改的，只是通常约定为args\n",
    "- \\**kwargs, 不定长第二种\n",
    "> - 可以输入多个参数，但需要带参数名称\n",
    "  - 返回的数据类型是字典\n",
    "  - 输入的一定要是表达式(键值对)\n",
    "- 一般大的项目传入参数时，使用config文件一次写入所有的参数"
   ]
  },
  {
   "cell_type": "markdown",
   "metadata": {},
   "source": [
    "### \\**kwargs, 不定长第二种\n",
    "- 第二种不定长参数传入方法，使用字典数据传入\n",
    "- 写入参数时，必须先写\\*args, 再写\\**kwargs。 这是固定写法"
   ]
  },
  {
   "cell_type": "code",
   "execution_count": 13,
   "metadata": {},
   "outputs": [
    {
     "name": "stdout",
     "output_type": "stream",
     "text": [
      "1100\n"
     ]
    }
   ],
   "source": [
    "a = 1000\n",
    "def Y():\n",
    "    global a,b#全局变量\n",
    "    a += 100\n",
    "    print(a)\n",
    "Y( )"
   ]
  },
  {
   "cell_type": "markdown",
   "metadata": {},
   "source": [
    "## 变量的作用域\n",
    "- 局部变量 local\n",
    "- 全局变量 global\n",
    "- globals 函数返回一个全局变量的字典，包括所有导入的变量\n",
    "- locals() 函数会以字典类型返回当前位置的全部局部变量。"
   ]
  },
  {
   "cell_type": "code",
   "execution_count": 14,
   "metadata": {},
   "outputs": [
    {
     "data": {
      "text/plain": [
       "{'__name__': '__main__',\n",
       " '__doc__': 'Automatically created module for IPython interactive environment',\n",
       " '__package__': None,\n",
       " '__loader__': None,\n",
       " '__spec__': None,\n",
       " '__builtin__': <module 'builtins' (built-in)>,\n",
       " '__builtins__': <module 'builtins' (built-in)>,\n",
       " '_ih': ['',\n",
       "  'def TT(*args):\\n    print(args)\\nTT(1,2,3)',\n",
       "  'def max_(*args):\\n    res=0\\n    for i in args:\\n        if i>res:\\n            res=i\\n    return res',\n",
       "  'max_(2,4,5,6,7)',\n",
       "  'def sum_(*args):\\n    res=0\\n    for i in args:\\n        res +=i\\n    return res\\n    ',\n",
       "  'sum_(2,4)',\n",
       "  \"def sum_(*args,A='sum'):\\n    res=0\\n    count=1\\n    for i in args:\\n        res +=i\\n        count +=i\\n    if A== 'sum':\\n        return res\\n    elif A == 'mean':\\n        mean = res/count\\n        return res,mean\\n    else:\\n        print(A,'还未开放')\",\n",
       "  \"sum_(-1,,0,1,2,A='var')\",\n",
       "  \"sum_(-1,,0,1,4,A='var')\",\n",
       "  'sum_(1,2,3,4)',\n",
       "  'a = 1000\\ndef Y():\\n    global a,b\\n    a += 100\\n    print(a)\\ny()',\n",
       "  'a = 1000\\ndef Y():\\n    global a,b\\n    a += 100\\n    print(a)\\ny( )',\n",
       "  'a = 1000\\nb = 10\\ndef Y():\\n    global a,b\\n    a += 100\\n    print(a)\\nY( )',\n",
       "  'a = 1000\\ndef Y():\\n    global a,b#全局变量\\n    a += 100\\n    print(a)\\nY( )',\n",
       "  'globals()'],\n",
       " '_oh': {3: 7, 5: 6, 9: 10},\n",
       " '_dh': ['C:\\\\Users\\\\Administrator\\\\Desktop\\\\python\\\\课件'],\n",
       " 'In': ['',\n",
       "  'def TT(*args):\\n    print(args)\\nTT(1,2,3)',\n",
       "  'def max_(*args):\\n    res=0\\n    for i in args:\\n        if i>res:\\n            res=i\\n    return res',\n",
       "  'max_(2,4,5,6,7)',\n",
       "  'def sum_(*args):\\n    res=0\\n    for i in args:\\n        res +=i\\n    return res\\n    ',\n",
       "  'sum_(2,4)',\n",
       "  \"def sum_(*args,A='sum'):\\n    res=0\\n    count=1\\n    for i in args:\\n        res +=i\\n        count +=i\\n    if A== 'sum':\\n        return res\\n    elif A == 'mean':\\n        mean = res/count\\n        return res,mean\\n    else:\\n        print(A,'还未开放')\",\n",
       "  \"sum_(-1,,0,1,2,A='var')\",\n",
       "  \"sum_(-1,,0,1,4,A='var')\",\n",
       "  'sum_(1,2,3,4)',\n",
       "  'a = 1000\\ndef Y():\\n    global a,b\\n    a += 100\\n    print(a)\\ny()',\n",
       "  'a = 1000\\ndef Y():\\n    global a,b\\n    a += 100\\n    print(a)\\ny( )',\n",
       "  'a = 1000\\nb = 10\\ndef Y():\\n    global a,b\\n    a += 100\\n    print(a)\\nY( )',\n",
       "  'a = 1000\\ndef Y():\\n    global a,b#全局变量\\n    a += 100\\n    print(a)\\nY( )',\n",
       "  'globals()'],\n",
       " 'Out': {3: 7, 5: 6, 9: 10},\n",
       " 'get_ipython': <bound method InteractiveShell.get_ipython of <ipykernel.zmqshell.ZMQInteractiveShell object at 0x00000220214A9390>>,\n",
       " 'exit': <IPython.core.autocall.ZMQExitAutocall at 0x22023d1b518>,\n",
       " 'quit': <IPython.core.autocall.ZMQExitAutocall at 0x22023d1b518>,\n",
       " '_': 10,\n",
       " '__': 6,\n",
       " '___': 7,\n",
       " '_i': 'a = 1000\\ndef Y():\\n    global a,b#全局变量\\n    a += 100\\n    print(a)\\nY( )',\n",
       " '_ii': 'a = 1000\\nb = 10\\ndef Y():\\n    global a,b\\n    a += 100\\n    print(a)\\nY( )',\n",
       " '_iii': 'a = 1000\\ndef Y():\\n    global a,b\\n    a += 100\\n    print(a)\\ny( )',\n",
       " '_i1': 'def TT(*args):\\n    print(args)\\nTT(1,2,3)',\n",
       " 'TT': <function __main__.TT(*args)>,\n",
       " '_i2': 'def max_(*args):\\n    res=0\\n    for i in args:\\n        if i>res:\\n            res=i\\n    return res',\n",
       " 'max_': <function __main__.max_(*args)>,\n",
       " '_i3': 'max_(2,4,5,6,7)',\n",
       " '_3': 7,\n",
       " '_i4': 'def sum_(*args):\\n    res=0\\n    for i in args:\\n        res +=i\\n    return res\\n    ',\n",
       " 'sum_': <function __main__.sum_(*args, A='sum')>,\n",
       " '_i5': 'sum_(2,4)',\n",
       " '_5': 6,\n",
       " '_i6': \"def sum_(*args,A='sum'):\\n    res=0\\n    count=1\\n    for i in args:\\n        res +=i\\n        count +=i\\n    if A== 'sum':\\n        return res\\n    elif A == 'mean':\\n        mean = res/count\\n        return res,mean\\n    else:\\n        print(A,'还未开放')\",\n",
       " '_i7': \"sum_(-1,,0,1,2,A='var')\",\n",
       " '_i8': \"sum_(-1,,0,1,4,A='var')\",\n",
       " '_i9': 'sum_(1,2,3,4)',\n",
       " '_9': 10,\n",
       " '_i10': 'a = 1000\\ndef Y():\\n    global a,b\\n    a += 100\\n    print(a)\\ny()',\n",
       " 'a': 1100,\n",
       " 'Y': <function __main__.Y()>,\n",
       " '_i11': 'a = 1000\\ndef Y():\\n    global a,b\\n    a += 100\\n    print(a)\\ny( )',\n",
       " '_i12': 'a = 1000\\nb = 10\\ndef Y():\\n    global a,b\\n    a += 100\\n    print(a)\\nY( )',\n",
       " 'b': 10,\n",
       " '_i13': 'a = 1000\\ndef Y():\\n    global a,b#全局变量\\n    a += 100\\n    print(a)\\nY( )',\n",
       " '_i14': 'globals()'}"
      ]
     },
     "execution_count": 14,
     "metadata": {},
     "output_type": "execute_result"
    }
   ],
   "source": [
    "globals()"
   ]
  },
  {
   "cell_type": "code",
   "execution_count": null,
   "metadata": {},
   "outputs": [],
   "source": []
  },
  {
   "cell_type": "markdown",
   "metadata": {},
   "source": [
    "## 注意：\n",
    "- global ：在进行赋值操作的时候需要声明\n",
    "- 官方解释：This is because when you make an assignment to a variable in a scope, that variable becomes local to that scope and shadows any similarly named variable in the outer scope.\n",
    "- ![](../Photo/73.png)"
   ]
  },
  {
   "cell_type": "markdown",
   "metadata": {},
   "source": [
    "## EP：\n",
    "- 定义一个邮箱加密函数，使得输入邮箱后进行ASCII码加密\n",
    "- 定义一个判断其是否为闰年的函数\n",
    "- 函数的嵌套：定义两个函数A，B，B函数接受A函数的数值并判定是否为奇数或者偶数"
   ]
  },
  {
   "cell_type": "code",
   "execution_count": null,
   "metadata": {},
   "outputs": [],
   "source": [
    "def U(str_):\n",
    "    xiaoxie = 0\n",
    "    for i in str_:\n",
    "        ASCAII = ord(i)\n",
    "        if 97<=ASCAII<="
   ]
  },
  {
   "cell_type": "markdown",
   "metadata": {},
   "source": [
    "# Homework\n",
    "- 1\n",
    "![](../Photo/74.png)"
   ]
  },
  {
   "cell_type": "code",
   "execution_count": 23,
   "metadata": {},
   "outputs": [
    {
     "name": "stdout",
     "output_type": "stream",
     "text": [
      "输入>>3\n"
     ]
    },
    {
     "data": {
      "text/plain": [
       "12.0"
      ]
     },
     "execution_count": 23,
     "metadata": {},
     "output_type": "execute_result"
    }
   ],
   "source": [
    "def getPentagonalNumber():\n",
    "    n=eval(input('输入>>'))\n",
    "    b=n*(3*n-1)/2\n",
    "    return b\n",
    "getPentagonalNumber()"
   ]
  },
  {
   "cell_type": "markdown",
   "metadata": {},
   "source": [
    "- 2 \n",
    "![](../Photo/75.png)"
   ]
  },
  {
   "cell_type": "code",
   "execution_count": 33,
   "metadata": {},
   "outputs": [
    {
     "name": "stdout",
     "output_type": "stream",
     "text": [
      "输入一个整数>>12457\n"
     ]
    },
    {
     "data": {
      "text/plain": [
       "136"
      ]
     },
     "execution_count": 33,
     "metadata": {},
     "output_type": "execute_result"
    }
   ],
   "source": [
    "def sumDigits():\n",
    "    for i in range(10):\n",
    "        a=eval(input('输入一个整数>>'))\n",
    "        b = a % 10\n",
    "        c = a // 10\n",
    "        d = c % 10\n",
    "        f = c // 10\n",
    "        g=b+d+f+i\n",
    "        return g\n",
    "sumDigits()"
   ]
  },
  {
   "cell_type": "markdown",
   "metadata": {},
   "source": [
    "- 3\n",
    "![](../Photo/76.png)"
   ]
  },
  {
   "cell_type": "code",
   "execution_count": 1,
   "metadata": {},
   "outputs": [],
   "source": [
    "def displaysortednumbers(num1,num2,num3):\n",
    "    if num1<num2 and num1<num3 and num2<num3:\n",
    "        return num1, num2 ,num3\n",
    "    elif num1<num2 and num1<num3 and num3<num2:\n",
    "        return num1, num3 ,num2\n",
    "    elif num2<num1 and num2<num3 and num1<num3:\n",
    "        return num2, num1,num3\n",
    "    elif num2<num1 and num2<num3 and num3<num1:\n",
    "        return num2, num3,num1\n",
    "    elif num3<num1 and num3<num2 and num2<num1:\n",
    "        return num3, num2,num1\n",
    "    elif num3<num1 and num3<num2 and num1<num2:\n",
    "        return num3, num1,num2"
   ]
  },
  {
   "cell_type": "code",
   "execution_count": 3,
   "metadata": {},
   "outputs": [
    {
     "data": {
      "text/plain": [
       "(6, 7, 9)"
      ]
     },
     "execution_count": 3,
     "metadata": {},
     "output_type": "execute_result"
    }
   ],
   "source": [
    "displaysortednumbers(6,7,9)"
   ]
  },
  {
   "cell_type": "markdown",
   "metadata": {},
   "source": [
    "# - 4\n",
    "![](../Photo/77.png)"
   ]
  },
  {
   "cell_type": "code",
   "execution_count": null,
   "metadata": {},
   "outputs": [],
   "source": [
    "def futureInvestmenttValue(investmentAmount,monthIyInterestRate,years):\n",
    "    \n",
    "    "
   ]
  },
  {
   "cell_type": "markdown",
   "metadata": {},
   "source": [
    "- 5\n",
    "![](../Photo/78.png)"
   ]
  },
  {
   "cell_type": "code",
   "execution_count": 4,
   "metadata": {},
   "outputs": [],
   "source": [
    "def printchars(ch1,ch2,numberperline):\n",
    "    for i in range(76,91):\n",
    "        chr(i)\n",
    "        print(chr(i))\n",
    "        i+=1\n",
    "    if i%10==0:\n",
    "        print(\"\\n\")"
   ]
  },
  {
   "cell_type": "code",
   "execution_count": 5,
   "metadata": {},
   "outputs": [
    {
     "name": "stdout",
     "output_type": "stream",
     "text": [
      "L\n",
      "M\n",
      "N\n",
      "O\n",
      "P\n",
      "Q\n",
      "R\n",
      "S\n",
      "T\n",
      "U\n",
      "V\n",
      "W\n",
      "X\n",
      "Y\n",
      "Z\n"
     ]
    }
   ],
   "source": [
    "printchars(76,90,10)"
   ]
  },
  {
   "cell_type": "markdown",
   "metadata": {},
   "source": [
    "- 6\n",
    "![](../Photo/79.png)"
   ]
  },
  {
   "cell_type": "code",
   "execution_count": 7,
   "metadata": {},
   "outputs": [],
   "source": [
    "def numberofdaysinyear(year):\n",
    "    if (year % 4==0 and not year % 100==1) or (year % 400==0):\n",
    "        print('366')\n",
    "    else:\n",
    "        print('365')"
   ]
  },
  {
   "cell_type": "code",
   "execution_count": 8,
   "metadata": {},
   "outputs": [
    {
     "name": "stdout",
     "output_type": "stream",
     "text": [
      "365\n"
     ]
    }
   ],
   "source": [
    "numberofdaysinyear(2011)"
   ]
  },
  {
   "cell_type": "markdown",
   "metadata": {},
   "source": [
    "- 7\n",
    "![](../Photo/80.png)"
   ]
  },
  {
   "cell_type": "code",
   "execution_count": 9,
   "metadata": {},
   "outputs": [],
   "source": [
    "import math\n",
    "def distance(x1,y1,x2,y2):\n",
    "    x = x1-x2\n",
    "    y = y1-y2\n",
    "    distance =math.pow((x*x+y*y),1/2)\n",
    "    print(distance)"
   ]
  },
  {
   "cell_type": "code",
   "execution_count": 11,
   "metadata": {},
   "outputs": [
    {
     "name": "stdout",
     "output_type": "stream",
     "text": [
      "2.8284271247461903\n"
     ]
    }
   ],
   "source": [
    "distance(2,3,4,5)"
   ]
  },
  {
   "cell_type": "markdown",
   "metadata": {},
   "source": [
    "- 8\n",
    "![](../Photo/81.png)"
   ]
  },
  {
   "cell_type": "markdown",
   "metadata": {},
   "source": [
    "- 9\n",
    "![](../Photo/82.png)\n",
    "![](../Photo/83.png)"
   ]
  },
  {
   "cell_type": "markdown",
   "metadata": {},
   "source": [
    "- 10\n",
    "![](../Photo/84.png)"
   ]
  },
  {
   "cell_type": "markdown",
   "metadata": {},
   "source": [
    "- 11 \n",
    "### 去网上寻找如何用Python代码发送邮件 \n",
    "    - time.sleep(3)  3秒发送一次\n",
    "    - 一旦错误后，重新换一个邮箱"
   ]
  }
 ],
 "metadata": {
  "kernelspec": {
   "display_name": "Python 3",
   "language": "python",
   "name": "python3"
  },
  "language_info": {
   "codemirror_mode": {
    "name": "ipython",
    "version": 3
   },
   "file_extension": ".py",
   "mimetype": "text/x-python",
   "name": "python",
   "nbconvert_exporter": "python",
   "pygments_lexer": "ipython3",
   "version": "3.7.3"
  }
 },
 "nbformat": 4,
 "nbformat_minor": 2
}
