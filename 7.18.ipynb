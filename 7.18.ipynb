{
 "cells": [
  {
   "cell_type": "markdown",
   "metadata": {},
   "source": [
    "# 选择\n",
    "## 布尔类型、数值和表达式\n",
    "![](../Photo/33.png)\n",
    "- 注意：比较运算符的相等是两个等号，一个等到代表赋值\n",
    "- 在Python中可以用整型0来代表False，其他数字来代表True\n",
    "- 后面还会讲到 is 在判断语句中的用发"
   ]
  },
  {
   "cell_type": "markdown",
   "metadata": {},
   "source": [
    "## 字符串的比较使用ASCII值"
   ]
  },
  {
   "cell_type": "code",
   "execution_count": 3,
   "metadata": {},
   "outputs": [
    {
     "data": {
      "text/plain": [
       "True"
      ]
     },
     "execution_count": 3,
     "metadata": {},
     "output_type": "execute_result"
    }
   ],
   "source": [
    "a='joker'\n",
    "b='jaker'\n",
    "a>b"
   ]
  },
  {
   "cell_type": "markdown",
   "metadata": {},
   "source": [
    "## Markdown \n",
    "- https://github.com/younghz/Markdown"
   ]
  },
  {
   "cell_type": "markdown",
   "metadata": {},
   "source": [
    "$y=a*B$"
   ]
  },
  {
   "cell_type": "code",
   "execution_count": 17,
   "metadata": {},
   "outputs": [
    {
     "ename": "SyntaxError",
     "evalue": "invalid syntax (<ipython-input-17-ca7e4c60c783>, line 2)",
     "output_type": "error",
     "traceback": [
      "\u001b[1;36m  File \u001b[1;32m\"<ipython-input-17-ca7e4c60c783>\"\u001b[1;36m, line \u001b[1;32m2\u001b[0m\n\u001b[1;33m    - <img src=\"../Photo/34.png\"></img>\u001b[0m\n\u001b[1;37m      ^\u001b[0m\n\u001b[1;31mSyntaxError\u001b[0m\u001b[1;31m:\u001b[0m invalid syntax\n"
     ]
    }
   ],
   "source": [
    "## EP:\n",
    "- <img src=\"../Photo/34.png\"></img>\n",
    "- 输入一个数字，判断其实奇数还是偶数"
   ]
  },
  {
   "cell_type": "markdown",
   "metadata": {},
   "source": [
    "## 产生随机数字\n",
    "- 函数random.randint(a,b) 可以用来产生一个a和b之间且包括a和b的随机整数"
   ]
  },
  {
   "cell_type": "code",
   "execution_count": 45,
   "metadata": {},
   "outputs": [
    {
     "data": {
      "text/plain": [
       "7"
      ]
     },
     "execution_count": 45,
     "metadata": {},
     "output_type": "execute_result"
    }
   ],
   "source": [
    "random.randint(1,10)"
   ]
  },
  {
   "cell_type": "markdown",
   "metadata": {},
   "source": [
    "产生一个随机数，你去输入，如果你输入的数大于随机数，那么就告诉你太大了，反之，太小了，\n",
    "然后你一直输入，知道它满意为止"
   ]
  },
  {
   "cell_type": "code",
   "execution_count": 42,
   "metadata": {},
   "outputs": [],
   "source": [
    "b=random.randint(1,20)"
   ]
  },
  {
   "cell_type": "code",
   "execution_count": 39,
   "metadata": {},
   "outputs": [
    {
     "name": "stdout",
     "output_type": "stream",
     "text": [
      "输入一个数2\n",
      "你输入的数太小了\n",
      "输入一个数5\n",
      "你输入的数太小了\n",
      "输入一个数20\n",
      "你输入的数太大了\n",
      "输入一个数25\n",
      "你输入的数太大了\n",
      "输入一个数15\n",
      "你输入的数太大了\n"
     ]
    }
   ],
   "source": [
    "import random\n",
    "for i in range(5): ##运行次数\n",
    "    a=eval(input('输入一个数'))\n",
    "    if a>b:\n",
    "        print('你输入的数太大了')\n",
    "    if a<b:\n",
    "        print('你输入的数太小了')\n",
    "    if a==b:\n",
    "        print('正好')\n",
    "        break"
   ]
  },
  {
   "cell_type": "markdown",
   "metadata": {},
   "source": [
    "##  其他random方法\n",
    "- random.random 返回0.0到1.0之间前闭后开区间的随机浮点\n",
    "- random.randrange(a,b) 前闭后开"
   ]
  },
  {
   "cell_type": "markdown",
   "metadata": {},
   "source": [
    "## EP：\n",
    "- 产生两个随机整数number1和number2，然后显示给用户，使用户输入数字的和，并判定其是否正确\n",
    "- 进阶:写一个随机序号点名程序"
   ]
  },
  {
   "cell_type": "code",
   "execution_count": 14,
   "metadata": {},
   "outputs": [
    {
     "name": "stdout",
     "output_type": "stream",
     "text": [
      "1 2\n",
      "请输入数字之和3\n",
      "正确\n"
     ]
    }
   ],
   "source": [
    "import random\n",
    "number_1=random.randrange(0,10)\n",
    "number_2=random.randrange(0,10)\n",
    "b=number_1+number_2\n",
    "print(number_1,number_2)\n",
    "a=eval(input('请输入数字之和'))\n",
    "if a==b:\n",
    "    print('正确')\n",
    "else:\n",
    "    print('错误')"
   ]
  },
  {
   "cell_type": "markdown",
   "metadata": {},
   "source": [
    "## if语句\n",
    "- 如果条件正确就执行一个单向if语句，亦即当条件为真的时候才执行if内部的语句\n",
    "- Python有很多选择语句:\n",
    "> - 单向if \n",
    "  - 双向if-else\n",
    "  - 嵌套if\n",
    "  - 多向if-elif-else\n",
    "  \n",
    "- 注意：当语句含有子语句的时候，那么一定至少要有一个缩进，也就是说如果有儿子存在，那么一定要缩进\n",
    "- 切记不可tab键和space混用，单用tab 或者 space\n",
    "- 当你输出的结果是无论if是否为真时都需要显示时，语句应该与if对齐"
   ]
  },
  {
   "cell_type": "markdown",
   "metadata": {},
   "source": [
    "## EP：\n",
    "- 用户输入一个数字，判断其实奇数还是偶数\n",
    "- 进阶：可以查看下4.5实例研究猜生日"
   ]
  },
  {
   "cell_type": "markdown",
   "metadata": {},
   "source": [
    "## 双向if-else 语句\n",
    "- 如果条件为真，那么走if内部语句，否则走else内部语句"
   ]
  },
  {
   "cell_type": "markdown",
   "metadata": {},
   "source": [
    "## EP：\n",
    "- 产生两个随机整数number1和number2，然后显示给用户，使用户输入数字，并判定其是否正确,如果正确打印“you‘re correct”，否则打印正确错误"
   ]
  },
  {
   "cell_type": "markdown",
   "metadata": {},
   "source": [
    "## 嵌套if 和多向if-elif-else\n",
    "![](../Photo/35.png)"
   ]
  },
  {
   "cell_type": "code",
   "execution_count": 54,
   "metadata": {},
   "outputs": [
    {
     "name": "stdout",
     "output_type": "stream",
     "text": [
      "年轻吗[yes/no]yes\n",
      "[yes/no]no\n",
      "考虑一下\n"
     ]
    }
   ],
   "source": [
    "\n",
    "age=input('年轻吗[yes/no]')\n",
    "if age=='yes':\n",
    "    handsome=input('[yes/no]')\n",
    "    if handsome=='yes':\n",
    "        wife=input('有没有老婆[yes/no]')\n",
    "        if wife=='yes':\n",
    "            print('回家的诱惑')\n",
    "        else:\n",
    "            print('立刻结婚')\n",
    "    else:\n",
    "        print('考虑一下')\n",
    "else:\n",
    "    print('拜拜')\n",
    "        \n",
    "    \n",
    "    \n",
    "\n"
   ]
  },
  {
   "cell_type": "code",
   "execution_count": 66,
   "metadata": {},
   "outputs": [
    {
     "name": "stdout",
     "output_type": "stream",
     "text": [
      "请输入年份1998\n",
      "虎\n"
     ]
    }
   ],
   "source": [
    "year=eval(input('请输入年份'))\n",
    "if year % 12 == 0:\n",
    "    res='猴'\n",
    "elif year%12==1:\n",
    "    res='鸡'\n",
    "elif year%12==2:\n",
    "    res='狗'\n",
    "elif year%12==3:\n",
    "    res='猪'\n",
    "elif year%12==4:\n",
    "    res='鼠'\n",
    "elif year%12==5:\n",
    "    res='牛'\n",
    "elif year%12==6:\n",
    "    res='虎'\n",
    "elif year%12==7:\n",
    "    res=='兔'\n",
    "elif year%12==8:\n",
    "    res=='龙'\n",
    "elif year%12==9:\n",
    "    res=='蛇'\n",
    "elif year%12==10:\n",
    "    res=='马'\n",
    "elif year%12==11:\n",
    "    res=='羊'  \n",
    "print(res)\n"
   ]
  },
  {
   "cell_type": "markdown",
   "metadata": {},
   "source": [
    "## EP：\n",
    "- 提示用户输入一个年份，然后显示表示这一年的动物\n",
    "![](../Photo/36.png)\n",
    "- 计算身体质量指数的程序\n",
    "- BMI = 以千克为单位的体重除以以米为单位的身高的平方\n",
    "![](../Photo/37.png)"
   ]
  },
  {
   "cell_type": "code",
   "execution_count": 23,
   "metadata": {},
   "outputs": [
    {
     "name": "stdout",
     "output_type": "stream",
     "text": [
      "输入身高1.67\n",
      "请输入体重65\n",
      "标准\n"
     ]
    }
   ],
   "source": [
    "hight=eval(input('输入身高'))\n",
    "weight=eval(input('请输入体重'))\n",
    "BIM=weight/hight**2\n",
    "if BIM<18.5:\n",
    "    print('超轻')\n",
    "elif 18.5 <=BIM<25.0:\n",
    "    print('标准')\n",
    "elif 25.0<=BIM<30.0:\n",
    "    print('超重')\n",
    "else:\n",
    "    print('痴肥')"
   ]
  },
  {
   "cell_type": "markdown",
   "metadata": {},
   "source": [
    "## 逻辑运算符\n",
    "![](../Photo/38.png)"
   ]
  },
  {
   "cell_type": "markdown",
   "metadata": {},
   "source": [
    "![](../Photo/39.png)\n",
    "![](../Photo/40.png)"
   ]
  },
  {
   "cell_type": "markdown",
   "metadata": {},
   "source": [
    "## EP：\n",
    "- 判定闰年：一个年份如果能被4整除但不能被100整除，或者能被400整除，那么这个年份就是闰年\n",
    "- 提示用户输入一个年份，并返回是否是闰年\n",
    "- 提示用户输入一个数字，判断其是否为水仙花数"
   ]
  },
  {
   "cell_type": "code",
   "execution_count": 13,
   "metadata": {},
   "outputs": [
    {
     "name": "stdout",
     "output_type": "stream",
     "text": [
      "输入年份2001\n",
      "平年\n"
     ]
    }
   ],
   "source": [
    "year=eval(input('输入年份'))\n",
    "if (year % 4 == 0 and year % 100 !=0) or (year % 400 ==0):\n",
    "    print('闰年')\n",
    "else:\n",
    "    print('平年')\n",
    "    "
   ]
  },
  {
   "cell_type": "code",
   "execution_count": 14,
   "metadata": {},
   "outputs": [
    {
     "name": "stdout",
     "output_type": "stream",
     "text": [
      ">>12324\n",
      "不是水仙花\n"
     ]
    }
   ],
   "source": [
    "Number = eval(input('>>'))\n",
    "\n",
    "bai=Number // 100\n",
    "shi=Number //10 % 10\n",
    "ge=Number % 10\n",
    "\n",
    "if bai**3 + shi**3 + ge**3 == Number:\n",
    "    print('水仙花')\n",
    "else:\n",
    "    print('不是水仙花')"
   ]
  },
  {
   "cell_type": "markdown",
   "metadata": {},
   "source": [
    "## 实例研究：彩票\n",
    "![](../Photo/41.png)"
   ]
  },
  {
   "cell_type": "code",
   "execution_count": 22,
   "metadata": {},
   "outputs": [
    {
     "name": "stdout",
     "output_type": "stream",
     "text": [
      "45\n",
      "输入两位数45\n",
      "10000\n"
     ]
    }
   ],
   "source": [
    "import random\n",
    "number=random.randint(10,99)\n",
    "print(number)\n",
    "N=input('输入两位数')\n",
    "number_shi=number // 10\n",
    "number_ge=number % 10\n",
    "if N[0] == '0':\n",
    "    N_shi = 0\n",
    "else:    \n",
    "    N_shi= int(N) // 10\n",
    "    N_ge=int(N) % 10\n",
    "\n",
    "if number ==int(N):\n",
    "    print('10000')\n",
    "# elif number_shi == N_shi or number_shi == N_ge) and (number_ge == N_shi or number_ge == N_ge)\n",
    "elif number_shi + number_ge == N_shi + N_ge:\n",
    "    print('3000')\n",
    "elif (number_ge == N_ge or number_ge == N_shi) and (number_shi == N_ge or number_shi ==N_shi):\n",
    "    print('1000')"
   ]
  },
  {
   "cell_type": "markdown",
   "metadata": {},
   "source": [
    "# Homework\n",
    "- 1\n",
    "![](../Photo/42.png)"
   ]
  },
  {
   "cell_type": "code",
   "execution_count": 3,
   "metadata": {},
   "outputs": [
    {
     "name": "stdout",
     "output_type": "stream",
     "text": [
      "请输入a,b,c的值2,4,5\n",
      "The equation has no real roots\n"
     ]
    }
   ],
   "source": [
    "a,b,c=eval(input('请输入a,b,c的值'))\n",
    "r1=(-b+pow(b*b-4*a*c,1/2))/2*a\n",
    "r2=(-b-pow(b*b-4*a*c,1/2))/2*a\n",
    "if b*b-4*a*c>0:\n",
    "    print('此方程有两个实数根')\n",
    "    print('The root is',r1,r2)\n",
    "elif b*b-4*a*c==0:\n",
    "    print('此方程两个相等的实数根')\n",
    "    print('The root is',r1)\n",
    "    round(r1,1)\n",
    "else:\n",
    "    print('The equation has no real roots')"
   ]
  },
  {
   "cell_type": "markdown",
   "metadata": {},
   "source": [
    "- 2\n",
    "![](../Photo/43.png)"
   ]
  },
  {
   "cell_type": "code",
   "execution_count": 16,
   "metadata": {},
   "outputs": [
    {
     "name": "stdout",
     "output_type": "stream",
     "text": [
      "98 93\n",
      "请输入两数字之和100\n",
      "假\n"
     ]
    }
   ],
   "source": [
    "import random\n",
    "number1=random.randint(0,99)\n",
    "number2=random.randint(0,99)\n",
    "print(number1,number2)\n",
    "number=number1+number2\n",
    "a=eval(input('请输入两数字之和'))\n",
    "if a==number:\n",
    "    print('真')\n",
    "else:\n",
    "    print('假')"
   ]
  },
  {
   "cell_type": "markdown",
   "metadata": {},
   "source": [
    "- 3\n",
    "![](../Photo/44.png)"
   ]
  },
  {
   "cell_type": "code",
   "execution_count": null,
   "metadata": {},
   "outputs": [],
   "source": []
  },
  {
   "cell_type": "markdown",
   "metadata": {},
   "source": [
    "- 4\n",
    "![](../Photo/45.png)"
   ]
  },
  {
   "cell_type": "code",
   "execution_count": 17,
   "metadata": {},
   "outputs": [
    {
     "name": "stdout",
     "output_type": "stream",
     "text": [
      "请输入第一个整数：20\n",
      "请输入第二个整数：30\n",
      "请输入第三个整数：14\n",
      "[14, 20, 30]\n"
     ]
    }
   ],
   "source": [
    "num1=int(input('请输入第一个整数：'))\n",
    "num2=int(input('请输入第二个整数：'))\n",
    "num3=int(input('请输入第三个整数：'))\n",
    "nums=[num1,num2,num3]\n",
    "nums.sort()\n",
    "print(nums)"
   ]
  },
  {
   "cell_type": "markdown",
   "metadata": {},
   "source": [
    "- 5\n",
    "![](../Photo/46.png)"
   ]
  },
  {
   "cell_type": "code",
   "execution_count": 22,
   "metadata": {},
   "outputs": [
    {
     "name": "stdout",
     "output_type": "stream",
     "text": [
      "请输入包装1的质量\n"
     ]
    },
    {
     "ename": "TypeError",
     "evalue": "eval() arg 1 must be a string, bytes or code object",
     "output_type": "error",
     "traceback": [
      "\u001b[1;31m---------------------------------------------------------------------------\u001b[0m",
      "\u001b[1;31mTypeError\u001b[0m                                 Traceback (most recent call last)",
      "\u001b[1;32m<ipython-input-22-ea4a7821c660>\u001b[0m in \u001b[0;36m<module>\u001b[1;34m\u001b[0m\n\u001b[0;32m      1\u001b[0m \u001b[1;32mimport\u001b[0m \u001b[0mrandom\u001b[0m\u001b[1;33m\u001b[0m\u001b[1;33m\u001b[0m\u001b[0m\n\u001b[0;32m      2\u001b[0m \u001b[0mnumber\u001b[0m\u001b[1;33m=\u001b[0m\u001b[0mrandom\u001b[0m\u001b[1;33m.\u001b[0m\u001b[0mrandint\u001b[0m\u001b[1;33m(\u001b[0m\u001b[1;36m0\u001b[0m\u001b[1;33m,\u001b[0m\u001b[1;36m100\u001b[0m\u001b[1;33m)\u001b[0m\u001b[1;33m\u001b[0m\u001b[1;33m\u001b[0m\u001b[0m\n\u001b[1;32m----> 3\u001b[1;33m \u001b[0mweigh1\u001b[0m\u001b[1;33m=\u001b[0m\u001b[0meval\u001b[0m\u001b[1;33m(\u001b[0m\u001b[0mprint\u001b[0m\u001b[1;33m(\u001b[0m\u001b[1;34m'请输入包装1的质量'\u001b[0m\u001b[1;33m)\u001b[0m\u001b[1;33m)\u001b[0m\u001b[1;33m\u001b[0m\u001b[1;33m\u001b[0m\u001b[0m\n\u001b[0m\u001b[0;32m      4\u001b[0m \u001b[0mweigh2\u001b[0m\u001b[1;33m=\u001b[0m\u001b[0meval\u001b[0m\u001b[1;33m(\u001b[0m\u001b[0mprint\u001b[0m\u001b[1;33m(\u001b[0m\u001b[1;34m'请输入包装1的质量'\u001b[0m\u001b[1;33m)\u001b[0m\u001b[1;33m)\u001b[0m\u001b[1;33m\u001b[0m\u001b[1;33m\u001b[0m\u001b[0m\n\u001b[0;32m      5\u001b[0m \u001b[0mprice1\u001b[0m\u001b[1;33m=\u001b[0m\u001b[0meval\u001b[0m\u001b[1;33m(\u001b[0m\u001b[0mprint\u001b[0m\u001b[1;33m(\u001b[0m\u001b[1;34m'请输入包装2的价格'\u001b[0m\u001b[1;33m)\u001b[0m\u001b[1;33m)\u001b[0m\u001b[1;33m\u001b[0m\u001b[1;33m\u001b[0m\u001b[0m\n",
      "\u001b[1;31mTypeError\u001b[0m: eval() arg 1 must be a string, bytes or code object"
     ]
    }
   ],
   "source": [
    "import random\n",
    "number=random.randint(0,100)\n",
    "weigh1=eval(print('请输入包装1的质量'))\n",
    "weigh2=eval(print('请输入包装1的质量'))\n",
    "price1=eval(print('请输入包装2的价格'))\n",
    "price2=eval(print('请输入包装2的价格'))\n",
    "weigh1=random.randint(0,100)\n",
    "weigh2=random.randint(0,100)\n",
    "price1=random.randint(0,100)\n",
    "price2=random.randint(0,100)\n",
    "if price1<price2:\n",
    "    print('Package 2 has the better price')\n",
    "else:\n",
    "    print('无')"
   ]
  },
  {
   "cell_type": "markdown",
   "metadata": {},
   "source": [
    "- 6\n",
    "![](../Photo/47.png)"
   ]
  },
  {
   "cell_type": "code",
   "execution_count": 25,
   "metadata": {},
   "outputs": [
    {
     "name": "stdout",
     "output_type": "stream",
     "text": [
      "请输入月份5\n",
      "请输入年份2009\n",
      "31\n"
     ]
    }
   ],
   "source": [
    "import random\n",
    "mouth=random.randint(1,12)\n",
    "mouth=eval(input('请输入月份'))\n",
    "mouth1='31'\n",
    "mouth2='29'\n",
    "year=eval(input('请输入年份'))\n",
    "if year % 4 == 0:\n",
    "    not year % 100 == 0\n",
    "    mouth=2\n",
    "    print(mouth2)\n",
    "else:\n",
    "    print(mouth1)\n",
    "    "
   ]
  },
  {
   "cell_type": "markdown",
   "metadata": {},
   "source": [
    "- 7\n",
    "![](../Photo/48.png)"
   ]
  },
  {
   "cell_type": "code",
   "execution_count": 17,
   "metadata": {},
   "outputs": [
    {
     "name": "stdout",
     "output_type": "stream",
     "text": [
      "请输入 1表示正面，2表示反面正\n",
      "正确 正\n"
     ]
    }
   ],
   "source": [
    "import random\n",
    "a=random.choice('正'or'反')\n",
    "正=1\n",
    "反=2\n",
    "b=input('请输入 1表示正面，2表示反面')\n",
    "if b==a:\n",
    "    print('正确',a)\n",
    "else:\n",
    "    print('错误',a)"
   ]
  },
  {
   "cell_type": "markdown",
   "metadata": {},
   "source": [
    "- 8\n",
    "![](../Photo/49.png)"
   ]
  },
  {
   "cell_type": "code",
   "execution_count": null,
   "metadata": {},
   "outputs": [],
   "source": []
  },
  {
   "cell_type": "markdown",
   "metadata": {},
   "source": [
    "- 9\n",
    "![](../Photo/50.png)"
   ]
  },
  {
   "cell_type": "markdown",
   "metadata": {},
   "source": [
    "- 10\n",
    "![](../Photo/51.png)"
   ]
  },
  {
   "cell_type": "markdown",
   "metadata": {},
   "source": [
    "- 11\n",
    "![](../Photo/52.png)"
   ]
  },
  {
   "cell_type": "code",
   "execution_count": 21,
   "metadata": {},
   "outputs": [
    {
     "name": "stdout",
     "output_type": "stream",
     "text": [
      "输入一个三位整数123\n",
      "123 is not a palindrom\n"
     ]
    }
   ],
   "source": [
    "abc=eval(input('输入一个三位整数'))\n",
    "ge=abc % 10\n",
    "shi=abc//10\n",
    "bai=shi//10\n",
    "if ge==bai:\n",
    "    print(abc,'is a palindrom')\n",
    "else:\n",
    "    print(abc,'is not a palindrom')"
   ]
  },
  {
   "cell_type": "markdown",
   "metadata": {},
   "source": [
    "- 12\n",
    "![](../Photo/53.png)"
   ]
  },
  {
   "cell_type": "code",
   "execution_count": 13,
   "metadata": {},
   "outputs": [
    {
     "name": "stdout",
     "output_type": "stream",
     "text": [
      "请分别输入三个正数3,4,5\n",
      "The perimter is 12\n"
     ]
    }
   ],
   "source": [
    "a,b,c=eval(input('请分别输入三个正数'))\n",
    "zhouchang=a+b+c\n",
    "A=a+b>c\n",
    "B=a+c>b\n",
    "C=b+c>a\n",
    "if A and B and C:\n",
    "    print('The perimter is',zhouchang)\n",
    "else:\n",
    "    print('非法')"
   ]
  },
  {
   "cell_type": "code",
   "execution_count": null,
   "metadata": {},
   "outputs": [],
   "source": []
  }
 ],
 "metadata": {
  "kernelspec": {
   "display_name": "Python 3",
   "language": "python",
   "name": "python3"
  },
  "language_info": {
   "codemirror_mode": {
    "name": "ipython",
    "version": 3
   },
   "file_extension": ".py",
   "mimetype": "text/x-python",
   "name": "python",
   "nbconvert_exporter": "python",
   "pygments_lexer": "ipython3",
   "version": "3.7.3"
  }
 },
 "nbformat": 4,
 "nbformat_minor": 2
}
